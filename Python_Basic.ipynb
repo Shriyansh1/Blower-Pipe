{
  "nbformat": 4,
  "nbformat_minor": 0,
  "metadata": {
    "colab": {
      "provenance": [],
      "authorship_tag": "ABX9TyPEZWgknAiJjcxIO6y1lx65",
      "include_colab_link": true
    },
    "kernelspec": {
      "name": "python3",
      "display_name": "Python 3"
    },
    "language_info": {
      "name": "python"
    }
  },
  "cells": [
    {
      "cell_type": "markdown",
      "metadata": {
        "id": "view-in-github",
        "colab_type": "text"
      },
      "source": [
        "<a href=\"https://colab.research.google.com/github/Shriyansh1/Blower-Pipe/blob/main/Python_Basic.ipynb\" target=\"_parent\"><img src=\"https://colab.research.google.com/assets/colab-badge.svg\" alt=\"Open In Colab\"/></a>"
      ]
    },
    {
      "cell_type": "code",
      "execution_count": null,
      "metadata": {
        "id": "8SuaVvlcuo1l"
      },
      "outputs": [],
      "source": []
    },
    {
      "cell_type": "markdown",
      "source": [
        "IF Condition\n"
      ],
      "metadata": {
        "id": "Yvbldljjuwnp"
      }
    },
    {
      "cell_type": "code",
      "source": [
        "PM=int(input(\"Enter Your Monthly Pocket Money \"))\n",
        "if(PM>500):\n",
        "  print(\"You Are A Rich Kid \")\n",
        "elif(PM>100):\n",
        "  print(\"You Have A Good Life\")\n",
        "else:\n",
        "  print(\"I Know What You Feel\")"
      ],
      "metadata": {
        "colab": {
          "base_uri": "https://localhost:8080/"
        },
        "id": "ccZvK_wnu259",
        "outputId": "60bbd158-a177-4fe4-d540-caa66619bb74"
      },
      "execution_count": null,
      "outputs": [
        {
          "output_type": "stream",
          "name": "stdout",
          "text": [
            "Enter Your Monthly Pocket Money 1000000\n",
            "You Are A Rich Kid \n"
          ]
        }
      ]
    },
    {
      "cell_type": "markdown",
      "source": [
        "Program For Word Count"
      ],
      "metadata": {
        "id": "BdGjX3h-xwiW"
      }
    },
    {
      "cell_type": "code",
      "source": [
        "name=input(\"Can You Introduce Yourself \")\n",
        "letterCount=0\n",
        "WordCount=1\n",
        "for I in name:\n",
        "  letterCount=letterCount+1\n",
        "  if(I==\" \"):\n",
        "    WordCount += 1\n",
        "print(\"letterCount=\",letterCount)\n",
        "print(\"WordCount=\",WordCount)"
      ],
      "metadata": {
        "colab": {
          "base_uri": "https://localhost:8080/"
        },
        "id": "n9E-8NUVx2hl",
        "outputId": "dc710122-77d9-4bdf-ab2d-ed961815a069"
      },
      "execution_count": null,
      "outputs": [
        {
          "output_type": "stream",
          "name": "stdout",
          "text": [
            "Can You Introduce Yourself i am shriyansh\n",
            "letterCount= 14\n",
            "WordCount= 3\n"
          ]
        }
      ]
    },
    {
      "cell_type": "code",
      "source": [
        "a=1\n",
        "#a=a+1\n",
        "#a-=1\n",
        "#a *=3\n",
        "a /=7\n",
        "print(a)"
      ],
      "metadata": {
        "colab": {
          "base_uri": "https://localhost:8080/"
        },
        "id": "94gzuQ4p1PlB",
        "outputId": "7e4ad5b8-2985-4fac-8d94-05324fa53f62"
      },
      "execution_count": null,
      "outputs": [
        {
          "output_type": "stream",
          "name": "stdout",
          "text": [
            "0.14285714285714285\n"
          ]
        }
      ]
    },
    {
      "cell_type": "markdown",
      "source": [
        "Text While Loop"
      ],
      "metadata": {
        "id": "eWIN6It52MWL"
      }
    },
    {
      "cell_type": "code",
      "source": [
        "pound=5\n",
        "while(pound>=0):\n",
        "   print(pound)\n",
        "   pound -=1 "
      ],
      "metadata": {
        "colab": {
          "base_uri": "https://localhost:8080/"
        },
        "id": "hsDEWfEh2Vxs",
        "outputId": "c8db1eb8-e5d5-4cec-9283-b3e0154a99ef"
      },
      "execution_count": null,
      "outputs": [
        {
          "output_type": "stream",
          "name": "stdout",
          "text": [
            "5\n",
            "4\n",
            "3\n",
            "2\n",
            "1\n",
            "0\n"
          ]
        }
      ]
    }
  ]
}